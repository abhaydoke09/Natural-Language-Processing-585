{
 "cells": [
  {
   "cell_type": "markdown",
   "metadata": {},
   "source": [
    "# Homework 5: Lexicons and Distributional Semantics\n",
    "\n",
    "This is due on **Friday, 11/10 (11pm)** \n",
    "\n",
    "## How to do this problem set\n",
    "\n",
    "Most of these questions require writing Python code and computing results, and the rest of them have textual answers.  Write all the textual answers in this document, show the output of your experiment in this document, and implement the functions in the `python` files. \n",
    "\n",
    "Submit a PDF of thie .ipynb to Gradescope, and the .ipynb and all python files to Moodle.\n",
    "\n",
    "The assignment has two parts:\n",
    " * In the first part, you will experiment with Turney's method to find word polarities in a twitter dataset, given some positive and negative seed words.\n",
    " * In the second part, you will experiment with distributional and vector semantics."
   ]
  },
  {
   "cell_type": "markdown",
   "metadata": {},
   "source": [
    "**Your Name: <>**\n",
    "\n",
    "**List collaborators, and how you collaborated, here:** (see our [grading and policies page](http://people.cs.umass.edu/~brenocon/inlp2017/grading.html) for details on our collaboration policy).\n",
    "\n",
    "* _name 1_ "
   ]
  },
  {
   "cell_type": "markdown",
   "metadata": {},
   "source": [
    "## Part 1: Lexicon semantics"
   ]
  },
  {
   "cell_type": "markdown",
   "metadata": {},
   "source": [
    "\n",
    "Recall that PMI of a pair of words, is defined as:\n",
    "\n",
    "$$PMI(x, y) = log\\frac{ P(x, y) }{ P(x)P(y)}$$\n",
    "\n",
    "The Turney mehod defines a word's polarity as:\n",
    "\n",
    "$$Polarity(word) = PMI(word, positive\\_word)−PMI(word, negative\\_word)$$\n",
    "\n",
    "where the joint probability $P(w, v)$ or, more specifically, $P(w\\ NEAR\\ v)$ is the probability of both being \"near\" each other.  We'll work with tweets, so it means: if you choose a tweet at random, what's the chance it contains both `w` and `v`?\n",
    "\n",
    "(If you look at the Turney method as explained in the SLP3 chapter, the \"hits\" function is a count of web pages that contain at least one instance of the two words occurring near each other.)\n",
    "\n",
    "The positive_word and negative_word terms are initially constructed by hand. For example: we might start with single positive word ('excellent') and a single negative word ('bad'). We can also have list of positive words ('excellent', 'perfect', 'love', ....) and list of negative words ('bad', 'hate', 'filthy',....)\n",
    "\n",
    "If we're using a seed list of multiple terms, just combine them into a single symbol, e.g. all the positive seed words get rewritten to POS_WORD (and similarly for NEG_WORD).  This $P(w, POS\\_WORD)$ effectively means the co-ocurrence of $w$ with any of the terms in the list.\n",
    "\n",
    "For this assignment, we will use twitter dataset which has 349378 tweets. These tweets are in the file named `tweets.txt`. These are the tweets of one day and filtered such that each tweet contains at least one of the seed words we've selected."
   ]
  },
  {
   "cell_type": "markdown",
   "metadata": {},
   "source": [
    "## Question 1 (15 points)\n",
    "\n",
    "The file `tweets.txt` contains around 349,378 tweets with one tweet per line.  It is a random sample of public tweets, which we tokenized with [twokenize.py's tokenizeRawTweetText()](https://github.com/myleott/ark-twokenize-py/blob/master/twokenize.py)). The text you see has a space between each token so you can just use `.split()` if you want.  We also filtered tweets to ones that included at least one term from one of these seed lists:\n",
    "* Positive seed list: [\"good\", \"nice\", \"love\", \"excellent\", \"fortunate\", \"correct\", \"superior\"]\n",
    "* Negative seed list: [\"bad\", \"nasty\", \"poor\", \"hate\", \"unfortunate\", \"wrong\", \"inferior\"]\n",
    "\n",
    "Each tweet contains at least one positive or negative seed word. Take a look at the file (e.g. `less' and `grep'). Implement the Turney's method to calculate polarity scores of all words.\n",
    "\n",
    "Some things to keep in mind:\n",
    "* Ignore the seed words (i.e. don't calculate the polarity of the seed words).\n",
    "* You may want to ignore the polarity of words beignning with `@` or `#`. \n",
    "\n",
    "We recommend that you write code in a python file, but it's up to you.\n",
    "\n",
    "QUESTION: You'll have to do something to handle zeros in the PMI equation. Please explain your and justify your decision about this."
   ]
  },
  {
   "cell_type": "markdown",
   "metadata": {},
   "source": [
    "**textual answer here**"
   ]
  },
  {
   "cell_type": "markdown",
   "metadata": {
    "collapsed": true
   },
   "source": [
    "## Question 2 (5 points)\n",
    "\n",
    "Print the top 50 most-positive words (i.e. inferred positive words) and the 50 most-negative words.\n",
    "\n",
    "Many of the words won't make sense.  Comment on at least two that do make sense, and at least two that don't.  Why do you think these are happening with this dataset and method?"
   ]
  },
  {
   "cell_type": "code",
   "execution_count": 15,
   "metadata": {
    "collapsed": false
   },
   "outputs": [
    {
     "name": "stdout",
     "output_type": "stream",
     "text": [
      "The autoreload extension is already loaded. To reload it, use:\n",
      "  %reload_ext autoreload\n"
     ]
    }
   ],
   "source": [
    "%load_ext autoreload\n",
    "%autoreload 2"
   ]
  },
  {
   "cell_type": "code",
   "execution_count": 88,
   "metadata": {
    "collapsed": false
   },
   "outputs": [],
   "source": [
    "# Write code to print words here\n",
    "import question1\n",
    "from collections import defaultdict\n",
    "\n",
    "POS_WORDS = [\"good\", \"nice\", \"love\", \"excellent\", \"fortunate\", \"correct\", \"superior\"]\n",
    "NEG_WORDS = [\"bad\", \"nasty\", \"poor\", \"hate\", \"unfortunate\", \"wrong\", \"inferior\"]\n",
    "result = question1.readTweets()    \n"
   ]
  },
  {
   "cell_type": "code",
   "execution_count": 93,
   "metadata": {
    "collapsed": false
   },
   "outputs": [],
   "source": [
    "word_counts = defaultdict(int)\n",
    "for i,tweet in enumerate(result):\n",
    "    for word in set(tweet):\n",
    "        word_counts[word] += 1\n",
    "    \n",
    "cooccurence_count = {}\n",
    "for pos_word in POS_WORDS:\n",
    "    cooccurence_count[pos_word] = defaultdict(int)\n",
    "for neg_word in NEG_WORDS:\n",
    "    cooccurence_count[neg_word] = defaultdict(int)\n",
    "\n",
    "for i,tweet in enumerate(result):\n",
    "    for word in set(tweet):\n",
    "        if (word not in POS_WORDS) or (word not in NEG_WORDS):\n",
    "            for pos_word in POS_WORDS:\n",
    "                if pos_word in tweet:\n",
    "                    cooccurence_count[pos_word][word]+=1\n",
    "            for neg_word in NEG_WORDS:\n",
    "                if neg_word in tweet:\n",
    "                    cooccurence_count[neg_word][word]+=1"
   ]
  },
  {
   "cell_type": "code",
   "execution_count": 90,
   "metadata": {
    "collapsed": false
   },
   "outputs": [],
   "source": [
    "import math\n",
    "polarity = {}\n",
    "for word in word_counts:\n",
    "    if not (word in POS_WORDS or word in NEG_WORDS or word[0] in ['@','#']):\n",
    "        pmi_pos = 0   \n",
    "        for pos_word in POS_WORDS: \n",
    "            numerator = (1 + cooccurence_count[pos_word][word])*1.0/len(result)\n",
    "            denominator = ((1.0 + word_counts[word])/len(result))\\\n",
    "            *((1.0 + word_counts[pos_word])/len(result))\n",
    "            pmi_pos += math.log(numerator/denominator)\n",
    "        \n",
    "        pmi_neg = 0   \n",
    "        for neg_word in NEG_WORDS: \n",
    "            numerator = (1 + cooccurence_count[neg_word][word])*1.0/len(result)\n",
    "            denominator = ((1.0 + word_counts[word])/len(result))\\\n",
    "                        *((1.0 + word_counts[neg_word])/len(result))\n",
    "            pmi_neg += math.log(numerator/denominator)\n",
    "        \n",
    "        polarity[word] = pmi_pos - pmi_neg"
   ]
  },
  {
   "cell_type": "code",
   "execution_count": 91,
   "metadata": {
    "collapsed": false
   },
   "outputs": [
    {
     "name": "stdout",
     "output_type": "stream",
     "text": [
      "Most Positive Words\n",
      "[('evening', 11.861793364063999), ('craze', 9.86355135912765), ('birthday', 9.63620410765375), ('hello', 8.955751095668278), ('thanks', 8.474708091435518), ('thank', 8.444648424158029), ('usatour2017', 8.258610367443737), ('alwaysjadine', 8.25139011947025), ('lauren', 7.972278755492287), ('nnpanalomoto', 7.8580923484190315), ('23', 7.824778543518079), ('wonderful', 7.458687417013186), ('lovely', 7.355387847175383), ('flowers', 7.351622597576826), ('goodbye', 7.256542012538748), ('tshirt', 7.221856454550858), ('addition', 7.2100219969038575), ('thx', 7.126945354767376), ('doggo', 7.120223809007047), ('congratulations', 7.116184654843826), ('ol', 7.104073418894475), ('dropping', 7.098680753314957), ('movie', 7.086012359294896), ('justin', 7.059920840880875), ('london', 6.979260214704757), ('congrats', 6.966964204922071), ('march', 6.921635946950281), ('von', 6.912083424284884), ('viola', 6.857146111812365), (\"they'd\", 6.828087386205887), ('nd', 6.823759095779629), ('xx', 6.81470926025971), ('definitely', 6.800158213929121), ('brazil', 6.799441788128923), ('kindness', 6.757372577411357), ('davis', 6.754203002650077), ('mr', 6.713883899767277), ('cock', 6.614038564797559), ('ph', 6.6042168264990595), ('rebuilding', 6.575229289625806), ('tak', 6.5677144931233205), ('settle', 6.565826936947417), ('fresh', 6.534574393443311), ('dinner', 6.515630025788547), ('hood', 6.508906646694733), ('hoop', 6.496255529141176), ('babe', 6.494691807164992), ('morning', 6.425844599894907), ('fought', 6.401321436014798), ('advance', 6.38107327518485)]\n",
      "\n",
      "Most Negative Words [('crimes', -9.80155160867346), ('closure', -9.628807791132738), ('suggesting', -9.619757955612819), ('violence', -9.53320056691809), ('victims', -8.662426673868397), ('claims', -8.61357093377842), ('obamacare', -8.31120133469723), ('despicable', -8.188303198374076), ('moods', -8.1249877614921), ('families', -8.088588757128193), ('terrorist', -8.002351873529543), ('cigarettes', -7.779353766183302), ('sick', -7.7581889549912555), ('pelosi', -7.739818382622852), ('violent', -7.732688306580439), ('disability', -7.716558924650554), ('vandalism', -7.683498062389667), ('saf', -7.591782853503199), ('blaming', -7.47871729147097), ('presidency', -7.4072659061458115), ('designed', -7.403831443697177), ('jccs', -7.34534373958547), ('explain', -7.295229118075583), ('botc', -7.229452852081124), ('poc', -7.116502167156622), ('gurmehar', -7.067712002987189), ('raid', -7.044860287498095), ('crime', -7.016614652560294), ('latino', -6.989149680484088), ('httpstcoelgddnernv', -6.929726260013288), ('devos', -6.893358615842413), ('stomach', -6.88330827998891), ('habit', -6.875340110339733), ('responsibility', -6.852867254487675), ('child', -6.819104765735233), ('leak', -6.803746457152725), ('generals', -6.775575580186029), ('disgusting', -6.775154616172236), ('justify', -6.757557074683351), ('vague', -6.74842459112008), ('commerce', -6.7392079360151556), ('centers', -6.739207936015154), ('decreased', -6.686939507469396), ('suggests', -6.61678452080227), ('blames', -6.605676543390631), ('3am', -6.534413523369142), ('antimuslim', -6.503641864702388), ('incidents', -6.479925338085071), ('threats', -6.44398032064432), ('blame', -6.4165550997565415)]\n"
     ]
    }
   ],
   "source": [
    "import operator\n",
    "most_positive = sorted(polarity.items(), key=operator.itemgetter(1), reverse=True)\n",
    "most_negative = sorted(polarity.items(), key=operator.itemgetter(1))\n",
    "print \"Most Positive Words\\n\",most_positive[0:50]\n",
    "print \"\\nMost Negative Words\", most_negative[0:50]\n"
   ]
  },
  {
   "cell_type": "markdown",
   "metadata": {
    "collapsed": true
   },
   "source": [
    "### Textual answer here.\n",
    "In positive words, I can see worderful, happy, thanks, goodbye, hello which make sense. Words like nd, tak don't make sense. It is happening mostly beacause the word splitting is bad.\n",
    "\n",
    "Same with the most negative words. Words like crimes, victims, violence, blam make sense. but word like 3am does not signify anything."
   ]
  },
  {
   "cell_type": "markdown",
   "metadata": {},
   "source": [
    "## Question 3 (5 points)\n",
    "\n",
    "Now filter out all the words which have total count < 500, and then print top 50 polarity words and bottom 50 polarity words. \n",
    "\n",
    "Choose some of the words from both the sets of 50 words you got above which accoording to you make sense. Again please note, you will find many words which don't make sense. Do you think these results are better than the results you got in Question-1? Explain why."
   ]
  },
  {
   "cell_type": "code",
   "execution_count": 92,
   "metadata": {
    "collapsed": false
   },
   "outputs": [
    {
     "name": "stdout",
     "output_type": "stream",
     "text": [
      "\n",
      "******* Most Positive Words after filetering *******\n",
      "\n",
      "birthday 9.63620410765\n",
      "thanks 8.47470809144\n",
      "thank 8.44464842416\n",
      "ol 7.10407341889\n",
      "movie 7.08601235929\n",
      "march 6.92163594695\n",
      "von 6.91208342428\n",
      "hood 6.50890664669\n",
      "morning 6.42584459989\n",
      "taylor 6.23145775052\n",
      "happy 6.1301655718\n",
      "teyana 5.97982006379\n",
      "keef 5.81347113562\n",
      "herban 5.81232500369\n",
      "httpstcoi46mhn5tag 5.81232500369\n",
      "httpstcoinu4pqos7z 5.79846796902\n",
      "retweet 5.67531973081\n",
      "hi 5.67139977819\n",
      "president 5.64659953579\n",
      "proud 5.55009241126\n",
      "sweet 5.46412309759\n",
      "best 5.42007300529\n",
      "soon 5.38470895571\n",
      "amazing 5.29710361876\n",
      "follow 5.17393859191\n",
      "far 5.16435740514\n",
      "together 5.03591425461\n",
      "beautiful 4.98297931669\n",
      "miss 4.88006546877\n",
      "pregnancy 4.8563292416\n",
      "heard 4.84223394064\n",
      "today 4.82133269829\n",
      "win 4.76449437313\n",
      "music 4.7615063252\n",
      "learn 4.72999439257\n",
      "lt 4.71102441138\n",
      "work 4.66648052359\n",
      "speech 4.5941589376\n",
      "luck 4.57704500464\n",
      "friends 4.52279223327\n",
      "fall 4.50458175792\n",
      "positive 4.43200885152\n",
      "giving 4.3345503865\n",
      "yes 4.3061930236\n",
      "sounds 4.29789268702\n",
      "d 4.29696269874\n",
      "last 4.29416697137\n",
      "night 4.2481418442\n",
      "god 4.18380221222\n",
      "played 4.10974072569\n",
      "game 4.02445334042\n",
      "\n",
      "******* Most Negative Words after filetering *******\n",
      "\n",
      "crimes -9.80155160867\n",
      "cigarettes -7.77935376618\n",
      "saf -7.5917828535\n",
      "explain -7.29522911808\n",
      "crime -7.01661465256\n",
      "child -6.81910476574\n",
      "blame -6.41655509976\n",
      "used -6.3236393321\n",
      "ugly -6.10728843695\n",
      "thru -6.01295159685\n",
      "gets -5.82375878325\n",
      "store -5.79522240431\n",
      "woman -5.72469305817\n",
      "stands -5.58816460395\n",
      "fuck -5.43642993959\n",
      "sad -5.4359201971\n",
      "condemning -5.34168082303\n",
      "oh -5.32475944281\n",
      "evil -5.29759037635\n",
      "its -5.14842304904\n",
      "something -5.12220082916\n",
      "immigrants -5.04597150076\n",
      "marijuana -5.02593596419\n",
      "feel -5.01618132992\n",
      "ppl -4.94492492468\n",
      "democrats -4.91197349431\n",
      "hell -4.75747351433\n",
      "make -4.56183986512\n",
      "bc -4.43747013962\n",
      "yeah -4.308136771\n",
      "want -4.29175435667\n",
      "nigga -4.27045783063\n",
      "shit -4.24444233108\n",
      "dems -4.19221149976\n",
      "won't -3.88132671623\n",
      "give -3.87628259188\n",
      "part -3.84163865575\n",
      "when -3.75894527941\n",
      "hurt -3.75450733836\n",
      "going -3.64211755977\n",
      "says -3.61036817299\n",
      "idea -3.591846806\n",
      "remember -3.54882560325\n",
      "away -3.51655629073\n",
      "against -3.47000289319\n",
      "ok -3.44054625051\n",
      "worse -3.4378488081\n",
      "without -3.38901915063\n",
      "sorry -3.36409316914\n",
      "women -3.3493732992\n",
      "pretty -3.3445147049\n"
     ]
    }
   ],
   "source": [
    "# Write code to print words here\n",
    "count = 0\n",
    "print \"\\n******* Most Positive Words after filetering *******\\n\"\n",
    "for word,val in most_positive:\n",
    "    if word_counts[word] > 500:\n",
    "        print word, val\n",
    "        count+=1\n",
    "    if count > 50:\n",
    "        break\n",
    "\n",
    "count = 0\n",
    "print \"\\n******* Most Negative Words after filetering *******\\n\"\n",
    "for word,val in most_negative:\n",
    "    if word_counts[word] > 500:\n",
    "        print word, val\n",
    "        count+=1\n",
    "    if count > 50:\n",
    "        break\n",
    "\n",
    "\n",
    "        \n",
    "        "
   ]
  },
  {
   "cell_type": "markdown",
   "metadata": {},
   "source": [
    "### Textual answer here."
   ]
  },
  {
   "cell_type": "markdown",
   "metadata": {},
   "source": [
    "## Question 4 (5 points)\n",
    "\n",
    "Even after filtering out words with count < 500, many top-most and bottom-most polarity don't make sense. Identify what kind of words these are and what can be done to filter them out. You can read some tweets in the file to see what's happening. "
   ]
  },
  {
   "cell_type": "markdown",
   "metadata": {
    "collapsed": true
   },
   "source": [
    "### Textual answer here.\n",
    "In positive words, there are many re-tweets about \"That 's good ol Keef Von D , or Herban Decay\". Here the word ol comes algong with good many times and hence its polarity is very high.\n",
    "\n",
    "Same is applicable for word \"saf\" in most negative words. There are many re-tweets about \"CHILD : Why is it bad to have marijuana in every store ? ME : I’ll explain after I pick up cigarettes and beer at Saf…\" and hence saf gets high cooccurence probability with word bad.\n",
    "\n",
    "\n",
    "We need to filter out re-tweets and just keep the database about all the unique tweets."
   ]
  },
  {
   "cell_type": "markdown",
   "metadata": {},
   "source": [
    "# Part-2: Distributional Semantics"
   ]
  },
  {
   "cell_type": "markdown",
   "metadata": {},
   "source": [
    "## Cosine Similarity"
   ]
  },
  {
   "cell_type": "markdown",
   "metadata": {},
   "source": [
    "Recall that, where $i$ indexes over the context types, cosine similarity is defined as follows. $x$ and $y$ are both vectors of context counts (each for a different word), where $x_i$ is the count of context $i$.\n",
    "\n",
    "$$cossim(x,y) = \\frac{ \\sum_i x_i y_i }{ \\sqrt{\\sum_i x_i^2} \\sqrt{\\sum_i y_i^2} }$$\n",
    "\n",
    "The nice thing about cosine similarity is that it is normalized: no matter what the input vectors are, the output is between 0 and 1. One way to think of this is that cosine similarity is just, um, the cosine function, which has this property (for non-negative $x$ and $y$). Another way to think of it is, to work through the situations of maximum and minimum similarity between two context vectors, starting from the definition above.\n",
    "\n",
    "Note: a good way to understand the cosine similarity function is that the numerator cares about whether the $x$ and $y$ vectors are correlated. If $x$ and $y$ tend to have high values for the same contexts, the numerator tends to be big. The denominator can be thought of as a normalization factor: if all the values of $x$ are really large, for example, dividing by the square root of their sum-of-squares prevents the whole thing from getting arbitrarily large. In fact, dividing by both these things (aka their norms) means the whole thing can’t go higher than 1.\n",
    "\n",
    "In this problem we'll work with vectors of raw context counts.  (As you know, this is not necessarily the best representation.)"
   ]
  },
  {
   "cell_type": "markdown",
   "metadata": {},
   "source": [
    "## Question 5 (5 points)\n",
    "\n",
    "See the file `nytcounts.university_cat_dog`, which contains context count vectors for three words: “dog”, “cat”, and “university”. These are immediate left and right contexts from a New York Times corpus. You can open the file in a text editor since it’s quite small. \n",
    "\n",
    "Write a function which takes context count dictionaries of two words and calculates cosine similarity between these two words. The function should return a number beween 0 and 1.  Briefly comment on whether the relative simlarities make sense.\n",
    "\n"
   ]
  },
  {
   "cell_type": "code",
   "execution_count": 102,
   "metadata": {
    "collapsed": false
   },
   "outputs": [
    {
     "name": "stdout",
     "output_type": "stream",
     "text": [
      "file nytcounts.university_cat_dog has contexts for 3 words\n",
      "0.966891672715\n",
      "0.660442421144\n",
      "0.659230248969\n"
     ]
    }
   ],
   "source": [
    "import distsim; \n",
    "reload(distsim)\n",
    "\n",
    "word_to_ccdict = distsim.load_contexts(\"nytcounts.university_cat_dog\")\n",
    "\n",
    "# write code here to show output (i.e. cosine similarity between these words.)\n",
    "# We encourage you to write other functions in distsim.py itself. \n",
    "print distsim.cosine_similarity(word_to_ccdict['dog'],word_to_ccdict['cat'])\n",
    "print distsim.cosine_similarity(word_to_ccdict['cat'],word_to_ccdict['university'])\n",
    "print distsim.cosine_similarity(word_to_ccdict['dog'],word_to_ccdict['university'])"
   ]
  },
  {
   "cell_type": "markdown",
   "metadata": {},
   "source": [
    "**Write your response here:**\n",
    "\n",
    "\n"
   ]
  },
  {
   "cell_type": "markdown",
   "metadata": {},
   "source": [
    "\n",
    "## Question 6 (20 points)\n",
    "\n",
    "Explore similarities in `nytcounts.4k`, which contains context counts for about 4000 words in a sample of New York Times articles. The news data was lowercased and URLs were removed. The context counts are for the 2000 most common words in twitter, as well as the most common 2000 words in the New York Times. (But all context counts are from New York Times.) The context counts only contain contexts that appeared for more than one word.  The file has three tab-separate fields: the word, its count, and a JSON-encoded dictionary of its context counts.  You'll see it's just counts of the immediate left/right neighbors.\n",
    "\n",
    "Choose **six** words. For each, show the output of 20 nearest words (use cosine similarity as distance metric). Comment on whether the output makes sense. Comment on whether this approach to distributional similarity makes more or less sense for certain terms.\n",
    "Four of your words should be:\n",
    "\n",
    " * a name (for example: person, organization, or location)\n",
    " * a common noun\n",
    " * an adjective\n",
    " * a verb\n",
    "\n",
    "You may also want to try exploring further words that are returned from a most-similar list from one of these. You can think of this as traversing the similarity graph among words.\n",
    "\n",
    "*Implementation note:* \n",
    "On my laptop it takes several hundred MB of memory to load it into memory from the `load_contexts()` function. If you don’t have enough memory available, your computer will get very slow because the OS will start swapping. If you have to use a machine without that much memory available, you can instead implement in a streaming approach by using the `stream_contexts()` generator function to access the data; this lets you iterate through the data from disk, one vector at a time, without putting everything into memory. You can see its use in the loading function. (You could also alternatively use a key-value or other type of database, but that’s too much work for this assignment.)"
   ]
  },
  {
   "cell_type": "code",
   "execution_count": 103,
   "metadata": {
    "collapsed": false
   },
   "outputs": [
    {
     "name": "stdout",
     "output_type": "stream",
     "text": [
      "file nytcounts.4k has contexts for 3648 words\n"
     ]
    }
   ],
   "source": [
    "import distsim; reload(distsim)\n",
    "word_to_ccdict = distsim.load_contexts(\"nytcounts.4k\")\n",
    "###Provide your answer below; perhaps in another cell so you don't have to reload the data each time"
   ]
  },
  {
   "cell_type": "code",
   "execution_count": 107,
   "metadata": {
    "collapsed": false
   },
   "outputs": [],
   "source": [
    "test_words = ['bill','awake','established','christ','told','boobs']\n",
    "result_dict = {}\n",
    "for word in test_words:\n",
    "    result_dict[word] = {}\n",
    "    for compare_word in word_to_ccdict.keys():\n",
    "        if compare_word != word:\n",
    "            result_dict[word][compare_word] = distsim.cosine_similarity(word_to_ccdict[word]\\\n",
    "                                            ,word_to_ccdict[compare_word])"
   ]
  },
  {
   "cell_type": "code",
   "execution_count": 111,
   "metadata": {
    "collapsed": false
   },
   "outputs": [
    {
     "name": "stdout",
     "output_type": "stream",
     "text": [
      "\n",
      "******** Most similar words for ESTABLISHED ********\n",
      "\n",
      "introduced 0.866978464017\n",
      "created 0.826531601085\n",
      "built 0.824161262039\n",
      "developed 0.819753428508\n",
      "played 0.805059352133\n",
      "raised 0.80203725391\n",
      "cited 0.800262031243\n",
      "filed 0.787898026519\n",
      "founded 0.785600043102\n",
      "completed 0.784712932447\n",
      "represented 0.772626786416\n",
      "performed 0.770721128552\n",
      "provided 0.764642928569\n",
      "published 0.764630929142\n",
      "approved 0.755176119183\n",
      "opened 0.753481348476\n",
      "brought 0.748781057709\n",
      "rejected 0.747913554615\n",
      "conducted 0.742548463328\n",
      "playing 0.737244996042\n",
      "\n",
      "******** Most similar words for CHRIST ********\n",
      "\n",
      "course 0.778852656907\n",
      "flowers 0.755570700199\n",
      "pennsylvania 0.755532934775\n",
      "mine 0.740786349894\n",
      "directors 0.739045888437\n",
      "massachusetts 0.725433110728\n",
      "parliament 0.720827327631\n",
      "california 0.719758096072\n",
      "art 0.71908435029\n",
      "education 0.718813872706\n",
      "medicine 0.718375772736\n",
      "color 0.711648443544\n",
      "virginia 0.703757104294\n",
      "technology 0.700545583676\n",
      "violence 0.697304765008\n",
      "wood 0.697304764974\n",
      "oz 0.696178786893\n",
      "texas 0.695126105149\n",
      "architecture 0.687910361434\n",
      "events 0.687559069914\n",
      "\n",
      "******** Most similar words for BILL ********\n",
      "\n",
      "movie 0.90310060845\n",
      "plane 0.889309605735\n",
      "newspaper 0.888583903732\n",
      "camera 0.885004132159\n",
      "project 0.884677255836\n",
      "word 0.884595280212\n",
      "team 0.883215968634\n",
      "film 0.882846318428\n",
      "bathroom 0.878165480069\n",
      "neighborhood 0.876272203769\n",
      "program 0.875945475797\n",
      "storm 0.875220979138\n",
      "blast 0.874240372138\n",
      "situation 0.873170906609\n",
      "gym 0.872445921685\n",
      "book 0.871231167479\n",
      "dollar 0.870182390904\n",
      "settlement 0.868588006593\n",
      "panel 0.868501353746\n",
      "ball 0.868463660248\n",
      "\n",
      "******** Most similar words for BOOBS ********\n",
      "\n",
      "hoes 0.353553390593\n",
      "guys 0.303996335985\n",
      "days 0.261963936513\n",
      "rihanna 0.176776695297\n",
      "folks 0.144537668404\n",
      "never 0.108639055976\n",
      "things 0.108599887559\n",
      "kids 0.105963515966\n",
      "they 0.0983012097878\n",
      "'ve 0.0981439646118\n",
      "matters 0.0937896240404\n",
      "he 0.0930860005025\n",
      "she 0.0853192129028\n",
      "ever 0.0839238435059\n",
      "investigators 0.0837645362898\n",
      "dudes 0.0821994936527\n",
      "issues 0.0818775312332\n",
      "who 0.0755881951346\n",
      "liam 0.0741249316661\n",
      "always 0.0714226020893\n",
      "\n",
      "******** Most similar words for AWAKE ********\n",
      "\n",
      "alive 0.764947250774\n",
      "classes 0.722114848935\n",
      "everywhere 0.691967523666\n",
      "programs 0.690774797293\n",
      "practices 0.687861324751\n",
      "shoes 0.685899922304\n",
      "again 0.684389317229\n",
      "shots 0.683568149954\n",
      "here 0.680277473551\n",
      "pm 0.679028828126\n",
      "surgery 0.678100217504\n",
      "anymore 0.677847534887\n",
      "boring 0.67689219311\n",
      "laughed 0.673945488956\n",
      "activities 0.670858710328\n",
      "crazy 0.669112232807\n",
      "politics 0.667075272616\n",
      "together 0.666956703447\n",
      "forever 0.665790235904\n",
      "cookies 0.66281873357\n",
      "\n",
      "******** Most similar words for TOLD ********\n",
      "\n",
      "tells 0.80465139195\n",
      "gave 0.780452740826\n",
      "telling 0.774517841851\n",
      "called 0.770013671888\n",
      "visited 0.756946258325\n",
      "joined 0.729498504102\n",
      "watched 0.713894346535\n",
      "ordered 0.692238500525\n",
      "bought 0.68702607019\n",
      "kept 0.686526450738\n",
      "won 0.685999433576\n",
      "sees 0.683997327766\n",
      "attended 0.681227035568\n",
      "entered 0.681146732246\n",
      "rejected 0.677440793803\n",
      "saw 0.675226380065\n",
      "near 0.67107398793\n",
      "given 0.662261811495\n",
      "keeps 0.658009546548\n",
      "liked 0.656438241977\n"
     ]
    }
   ],
   "source": [
    "for word in result_dict.keys():\n",
    "    print \"\\n******** Most similar words for \"+word.upper()+\" ********\\n\"\n",
    "    sorted_x = sorted(result_dict[word].items(), key=operator.itemgetter(1), reverse=True)[0:20]\n",
    "    for t in sorted_x:\n",
    "        print t[0],t[1]\n",
    "\n",
    "    "
   ]
  },
  {
   "cell_type": "markdown",
   "metadata": {},
   "source": [
    "## Question 7 (10 points)\n",
    "\n",
    "In the next several questions, you'll examine similarities in trained word embeddings, instead of raw context counts.\n",
    "\n",
    "See the file `nyt_word2vec.university_cat_dog`, which contains word embedding vectors pretrained by word2vec [1] for three words: “dog”, “cat”, and “university”, from the same corpus. You can open the file in a text editor since it’s quite small.\n",
    "\n",
    "Write a function which takes word embedding vectors of two words and calculates cossine similarity between these 2 words. The function should return a number beween -1 and 1. Briefly comment on whether the relative simlarities make sense. \n",
    "\n",
    "*Implementation note:*\n",
    "Notice that the inputs of this function are numpy arrays (v1 and v2). If you are not very familiar with the basic operation in numpy, you can find some examples in the basic operation section here:\n",
    "https://docs.scipy.org/doc/numpy-dev/user/quickstart.html\n",
    "\n",
    "If you know how to use Matlab but haven't tried numpy before, the following link should be helpful:\n",
    "https://docs.scipy.org/doc/numpy-dev/user/numpy-for-matlab-users.html\n",
    "\n",
    "[1] Mikolov, Tomas, et al. \"Distributed representations of words and phrases and their compositionality.\" NIPS 2013."
   ]
  },
  {
   "cell_type": "code",
   "execution_count": 9,
   "metadata": {
    "collapsed": false
   },
   "outputs": [
    {
     "name": "stdout",
     "output_type": "stream",
     "text": [
      "0.827517295965\n",
      "-0.205394745036\n",
      "-0.190753135501\n"
     ]
    }
   ],
   "source": [
    "import distsim; reload(distsim)\n",
    "\n",
    "word_to_vec_dict = distsim.load_word2vec(\"nyt_word2vec.4k\")\n",
    "\n",
    "print distsim.cosine_similarity_word2vec(word_to_vec_dict['dog'],word_to_vec_dict['cat'])\n",
    "print distsim.cosine_similarity_word2vec(word_to_vec_dict['cat'],word_to_vec_dict['university'])\n",
    "print distsim.cosine_similarity_word2vec(word_to_vec_dict['dog'],word_to_vec_dict['university'])\n",
    "\n",
    "# write code here to show output (i.e. cosine similarity between these words.)\n",
    "# We encourage you to write other functions in distsim.py itself. "
   ]
  },
  {
   "cell_type": "markdown",
   "metadata": {},
   "source": [
    "**Write your response here:**\n",
    "\n",
    "\n"
   ]
  },
  {
   "cell_type": "markdown",
   "metadata": {},
   "source": [
    "## Question 8 (20 points)\n",
    "\n",
    "Repeat the process you did in the question 6, but now use dense vector from word2vec. Comment on whether the outputs makes sense. Compare the outputs of using nearest words on word2vec and the outputs on sparse context vector (so we suggest you to use the same words in question 6). Which method works better on the query words you choose. Please brief explain why one method works better than other in each case.\n",
    "\n",
    "Not: we used the default parameters of word2vec in [gensim](https://radimrehurek.com/gensim/models/word2vec.html) to get word2vec word embeddings."
   ]
  },
  {
   "cell_type": "code",
   "execution_count": 15,
   "metadata": {
    "collapsed": false
   },
   "outputs": [],
   "source": [
    "import distsim\n",
    "import operator\n",
    "word_to_vec_dict = distsim.load_word2vec(\"nyt_word2vec.4k\")\n",
    "\n",
    "###Provide your answer below\n",
    "test_words = ['bill','awake','established','christ','told','kentucky']\n",
    "result_dict = {}\n",
    "for word in test_words:\n",
    "    result_dict[word] = {}\n",
    "    for compare_word in word_to_vec_dict.keys():\n",
    "        if compare_word != word:\n",
    "            result_dict[word][compare_word] = distsim.cosine_similarity_word2vec(word_to_vec_dict[word]\\\n",
    "                                            ,word_to_vec_dict[compare_word])"
   ]
  },
  {
   "cell_type": "code",
   "execution_count": 16,
   "metadata": {
    "collapsed": false
   },
   "outputs": [
    {
     "name": "stdout",
     "output_type": "stream",
     "text": [
      "\n",
      "******** Most similar words for ESTABLISHED ********\n",
      "\n",
      "created 0.768407638864\n",
      "developed 0.741681884818\n",
      "founded 0.719516204749\n",
      "joined 0.670916418553\n",
      "represented 0.661429266785\n",
      "organized 0.649323577778\n",
      "built 0.61853399759\n",
      "introduced 0.614364798068\n",
      "hired 0.593882369557\n",
      "conducted 0.578460391706\n",
      "supported 0.575789765017\n",
      "designed 0.569701186273\n",
      "presented 0.567261554753\n",
      "chosen 0.557226914843\n",
      "worked 0.552443411205\n",
      "produced 0.552137832057\n",
      "performed 0.545909327103\n",
      "replaced 0.545069865237\n",
      "criticized 0.534712729592\n",
      "accepted 0.527069712429\n",
      "\n",
      "******** Most similar words for CHRIST ********\n",
      "\n",
      "jesus 0.724308667655\n",
      "church 0.607908689327\n",
      "christian 0.579388667164\n",
      "holy 0.575210234377\n",
      "mary 0.565814213229\n",
      "jewish 0.564763204248\n",
      "roman 0.548141728208\n",
      "queen 0.538960423705\n",
      "elizabeth 0.499477936788\n",
      "ceremony 0.485140946065\n",
      "catholic 0.481478696692\n",
      "god 0.479151790923\n",
      "lord 0.472479178139\n",
      "rev 0.465089432227\n",
      "lady 0.461842290819\n",
      "un 0.457497369631\n",
      "mt 0.443250262586\n",
      "soul 0.438405232957\n",
      "king 0.437203017882\n",
      "faith 0.437097999365\n",
      "\n",
      "******** Most similar words for BILL ********\n",
      "\n",
      "legislation 0.73212665186\n",
      "proposal 0.643506843395\n",
      "legislature 0.629928280797\n",
      "measure 0.573722676487\n",
      "budget 0.563764517608\n",
      "senate 0.553915381666\n",
      "senator 0.548707032874\n",
      "speaker 0.546796341427\n",
      "reform 0.538837639565\n",
      "campaign 0.53468019603\n",
      "bills 0.532847841941\n",
      "plan 0.52832245981\n",
      "tax 0.521190124667\n",
      "democrat 0.518645151201\n",
      "assembly 0.512022330555\n",
      "governor 0.511324807046\n",
      "congress 0.501080878243\n",
      "proposals 0.488069611097\n",
      "administration 0.481001718573\n",
      "obama 0.473544548843\n",
      "\n",
      "******** Most similar words for KENTUCKY ********\n",
      "\n",
      "derby 0.825869015896\n",
      "florida 0.646954421746\n",
      "winner 0.626239512995\n",
      "race 0.605929181839\n",
      "ninth 0.579324227776\n",
      "races 0.562488843969\n",
      "horse 0.562352524323\n",
      "sixth 0.551212588479\n",
      "racing 0.534258881296\n",
      "liverpool 0.51819593692\n",
      "seventh 0.515175466138\n",
      "eighth 0.511453227461\n",
      "seattle 0.509874024549\n",
      "atlanta 0.508039591557\n",
      "miami 0.505142693822\n",
      "winning 0.495957445773\n",
      "championship 0.490206222831\n",
      "texas 0.481110205216\n",
      "pennsylvania 0.480539461139\n",
      "victory 0.473028687921\n",
      "\n",
      "******** Most similar words for AWAKE ********\n",
      "\n",
      "laughing 0.627946222965\n",
      "asleep 0.613665599475\n",
      "drunk 0.591941086991\n",
      "sleep 0.582121915708\n",
      "alive 0.578208976667\n",
      "crying 0.57549494416\n",
      "screaming 0.557234061091\n",
      "smiling 0.540920424331\n",
      "sleeping 0.538171633448\n",
      "praying 0.534826223427\n",
      "bored 0.53103997224\n",
      "prom 0.530857588371\n",
      "hungry 0.52511547827\n",
      "till 0.518414820022\n",
      "sick 0.517891655295\n",
      "happy 0.501396617231\n",
      "tears 0.501352327193\n",
      "tired 0.501344932424\n",
      "dead 0.491828527444\n",
      "bed 0.491069130628\n",
      "\n",
      "******** Most similar words for TOLD ********\n",
      "\n",
      "telling 0.728456471011\n",
      "warned 0.700327593842\n",
      "explained 0.697139453881\n",
      "said 0.647757092779\n",
      "asked 0.643370481049\n",
      "tells 0.636127424635\n",
      "recalled 0.612441613639\n",
      "noted 0.603245385636\n",
      "acknowledged 0.601936572263\n",
      "declared 0.598422624007\n",
      "suggested 0.590488634342\n",
      "noticed 0.577067037868\n",
      "tell 0.563106266996\n",
      "added 0.5630459073\n",
      "confirmed 0.550595613251\n",
      "hired 0.543345747277\n",
      "knew 0.537000193493\n",
      "talked 0.536758892353\n",
      "discovered 0.531754917396\n",
      "says 0.524467242748\n"
     ]
    }
   ],
   "source": [
    "for word in result_dict.keys():\n",
    "    print \"\\n******** Most similar words for \"+word.upper()+\" ********\\n\"\n",
    "    sorted_x = sorted(result_dict[word].items(), key=operator.itemgetter(1), reverse=True)[0:20]\n",
    "    for t in sorted_x:\n",
    "        print t[0],t[1]"
   ]
  },
  {
   "cell_type": "markdown",
   "metadata": {},
   "source": [
    "## Question 9 (15 points)\n",
    "An interesting thing to try with word embeddings is analogical reasoning tasks. In the following example, it's intended to solve the analogy question \"king is to man as what is to woman?\", or in SAT-style notation,\n",
    "\n",
    "king : man :: ____ : woman\n",
    "\n",
    "Some research has proposed to use additive operations on word embeddings to solve the analogy: take the vector $(v_{king}-v_{man}+v_{woman})$ and find the most-similar word to it.  One way to explain this idea: if you take \"king\", get rid of its attributes/contexts it shares with \"man\", and add in the attributes/contexts of \"woman\", hopefully you'll get to a point in the space that has king-like attributes but the \"man\" ones replaced with \"woman\" ones.\n",
    "\n",
    "Show the output for 20 closest words you get by trying to solve that analogy with this method.  Did it work?\n",
    "\n",
    "Please come up with another analogical reasoning task (another triple of words), and output the answer using the same method. Comment on whether the output makes sense. If the output makes sense, explain why we can capture such relation between words using an unsupervised algorithm. Where does the information come from? On the other hand, if the output does not make sense, propose an explanation why the algorithm fails on this case.\n",
    "\n",
    "\n",
    "Note that the word2vec is trained in an unsupervised manner just with distributional statistics; it is interesting that it can apparently do any reasoning at all.  For a critical view, see [Linzen 2016](http://www.aclweb.org/anthology/W/W16/W16-2503.pdf).\n",
    "\n"
   ]
  },
  {
   "cell_type": "code",
   "execution_count": 21,
   "metadata": {
    "collapsed": false
   },
   "outputs": [
    {
     "name": "stdout",
     "output_type": "stream",
     "text": [
      "limited\n"
     ]
    }
   ],
   "source": [
    "# Write code to show output here.\n",
    "from operator import add\n",
    "from operator import sub\n",
    "target = map(add, map(sub, word_to_vec_dict['king'], word_to_vec_dict['man']),\\\n",
    "             word_to_vec_dict['woman'])\n",
    "\n",
    "shortest = 10000\n",
    "best_word = \"\"\n",
    "for word in word_to_vec_dict.keys():\n",
    "    dist = distsim.cosine_similarity_word2vec(word_to_vec_dict[word], target) < shortest\n",
    "    if dist < shortest:\n",
    "        shortest = dist\n",
    "        best_word = word\n",
    "\n",
    "print best_word"
   ]
  },
  {
   "cell_type": "markdown",
   "metadata": {},
   "source": [
    "### Textual answer here."
   ]
  }
 ],
 "metadata": {
  "anaconda-cloud": {},
  "kernelspec": {
   "display_name": "Python 2",
   "language": "python",
   "name": "python2"
  },
  "language_info": {
   "codemirror_mode": {
    "name": "ipython",
    "version": 2
   },
   "file_extension": ".py",
   "mimetype": "text/x-python",
   "name": "python",
   "nbconvert_exporter": "python",
   "pygments_lexer": "ipython2",
   "version": "2.7.10"
  }
 },
 "nbformat": 4,
 "nbformat_minor": 0
}
