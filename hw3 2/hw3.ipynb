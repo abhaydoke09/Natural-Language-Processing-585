{
 "cells": [
  {
   "cell_type": "markdown",
   "metadata": {},
   "source": [
    "# Homework 5: Lexicons and Distributional Semantics\n",
    "\n",
    "This is due on **Friday, 11/10 (11pm)** \n",
    "\n",
    "## How to do this problem set\n",
    "\n",
    "Most of these questions require writing Python code and computing results, and the rest of them have textual answers.  Write all the textual answers in this document, show the output of your experiment in this document, and implement the functions in the `python` files. \n",
    "\n",
    "Submit a PDF of thie .ipynb to Gradescope, and the .ipynb and all python files to Moodle.\n",
    "\n",
    "The assignment has two parts:\n",
    " * In the first part, you will experiment with Turney's method to find word polarities in a twitter dataset, given some positive and negative seed words.\n",
    " * In the second part, you will experiment with distributional and vector semantics."
   ]
  },
  {
   "cell_type": "markdown",
   "metadata": {},
   "source": [
    "**Your Name: <>**\n",
    "\n",
    "**List collaborators, and how you collaborated, here:** (see our [grading and policies page](http://people.cs.umass.edu/~brenocon/inlp2017/grading.html) for details on our collaboration policy).\n",
    "\n",
    "* _name 1_ "
   ]
  },
  {
   "cell_type": "markdown",
   "metadata": {},
   "source": [
    "## Part 1: Lexicon semantics"
   ]
  },
  {
   "cell_type": "markdown",
   "metadata": {},
   "source": [
    "\n",
    "Recall that PMI of a pair of words, is defined as:\n",
    "\n",
    "$$PMI(x, y) = log\\frac{ P(x, y) }{ P(x)P(y)}$$\n",
    "\n",
    "The Turney mehod defines a word's polarity as:\n",
    "\n",
    "$$Polarity(word) = PMI(word, positive\\_word)−PMI(word, negative\\_word)$$\n",
    "\n",
    "where the joint probability $P(w, v)$ or, more specifically, $P(w\\ NEAR\\ v)$ is the probability of both being \"near\" each other.  We'll work with tweets, so it means: if you choose a tweet at random, what's the chance it contains both `w` and `v`?\n",
    "\n",
    "(If you look at the Turney method as explained in the SLP3 chapter, the \"hits\" function is a count of web pages that contain at least one instance of the two words occurring near each other.)\n",
    "\n",
    "The positive_word and negative_word terms are initially constructed by hand. For example: we might start with single positive word ('excellent') and a single negative word ('bad'). We can also have list of positive words ('excellent', 'perfect', 'love', ....) and list of negative words ('bad', 'hate', 'filthy',....)\n",
    "\n",
    "If we're using a seed list of multiple terms, just combine them into a single symbol, e.g. all the positive seed words get rewritten to POS_WORD (and similarly for NEG_WORD).  This $P(w, POS\\_WORD)$ effectively means the co-ocurrence of $w$ with any of the terms in the list.\n",
    "\n",
    "For this assignment, we will use twitter dataset which has 349378 tweets. These tweets are in the file named `tweets.txt`. These are the tweets of one day and filtered such that each tweet contains at least one of the seed words we've selected."
   ]
  },
  {
   "cell_type": "markdown",
   "metadata": {},
   "source": [
    "## Question 1 (15 points)\n",
    "\n",
    "The file `tweets.txt` contains around 349,378 tweets with one tweet per line.  It is a random sample of public tweets, which we tokenized with [twokenize.py's tokenizeRawTweetText()](https://github.com/myleott/ark-twokenize-py/blob/master/twokenize.py)). The text you see has a space between each token so you can just use `.split()` if you want.  We also filtered tweets to ones that included at least one term from one of these seed lists:\n",
    "* Positive seed list: [\"good\", \"nice\", \"love\", \"excellent\", \"fortunate\", \"correct\", \"superior\"]\n",
    "* Negative seed list: [\"bad\", \"nasty\", \"poor\", \"hate\", \"unfortunate\", \"wrong\", \"inferior\"]\n",
    "\n",
    "Each tweet contains at least one positive or negative seed word. Take a look at the file (e.g. `less' and `grep'). Implement the Turney's method to calculate polarity scores of all words.\n",
    "\n",
    "Some things to keep in mind:\n",
    "* Ignore the seed words (i.e. don't calculate the polarity of the seed words).\n",
    "* You may want to ignore the polarity of words beignning with `@` or `#`. \n",
    "\n",
    "We recommend that you write code in a python file, but it's up to you.\n",
    "\n",
    "QUESTION: You'll have to do something to handle zeros in the PMI equation. Please explain your and justify your decision about this."
   ]
  },
  {
   "cell_type": "markdown",
   "metadata": {},
   "source": [
    "**textual answer here**\n",
    "\n",
    "I have added 1 while calculating each of the three terms in PMI(x,y) equation. It means, I am assuming there will be atleast one instance of (x,y) , x and y. x is number of times word1 occurs, y is number of times word2 occurs and (x,y) number of times word1 and word2 co-occur."
   ]
  },
  {
   "cell_type": "markdown",
   "metadata": {
    "collapsed": true
   },
   "source": [
    "## Question 2 (5 points)\n",
    "\n",
    "Print the top 50 most-positive words (i.e. inferred positive words) and the 50 most-negative words.\n",
    "\n",
    "Many of the words won't make sense.  Comment on at least two that do make sense, and at least two that don't.  Why do you think these are happening with this dataset and method?"
   ]
  },
  {
   "cell_type": "code",
   "execution_count": 15,
   "metadata": {
    "collapsed": false
   },
   "outputs": [
    {
     "name": "stdout",
     "output_type": "stream",
     "text": [
      "The autoreload extension is already loaded. To reload it, use:\n",
      "  %reload_ext autoreload\n"
     ]
    }
   ],
   "source": [
    "%load_ext autoreload\n",
    "%autoreload 2"
   ]
  },
  {
   "cell_type": "code",
   "execution_count": 49,
   "metadata": {
    "collapsed": false
   },
   "outputs": [],
   "source": [
    "# Write code to print words here\n",
    "import question1\n",
    "from collections import defaultdict\n",
    "\n",
    "POS_WORDS = [\"good\", \"nice\", \"love\", \"excellent\", \"fortunate\", \"correct\", \"superior\"]\n",
    "NEG_WORDS = [\"bad\", \"nasty\", \"poor\", \"hate\", \"unfortunate\", \"wrong\", \"inferior\"]\n",
    "result = question1.readTweets()    \n"
   ]
  },
  {
   "cell_type": "code",
   "execution_count": 50,
   "metadata": {
    "collapsed": false
   },
   "outputs": [],
   "source": [
    "word_counts = defaultdict(int)\n",
    "for i,tweet in enumerate(result):\n",
    "    for word in set(tweet):\n",
    "        word_counts[word] += 1\n",
    "    \n",
    "cooccurence_count = {}\n",
    "for pos_word in POS_WORDS:\n",
    "    cooccurence_count[pos_word] = defaultdict(int)\n",
    "for neg_word in NEG_WORDS:\n",
    "    cooccurence_count[neg_word] = defaultdict(int)\n",
    "\n",
    "for i,tweet in enumerate(result):\n",
    "    for word in set(tweet):\n",
    "        if (word not in POS_WORDS) or (word not in NEG_WORDS):\n",
    "            for pos_word in POS_WORDS:\n",
    "                if pos_word in tweet:\n",
    "                    cooccurence_count[pos_word][word]+=1\n",
    "            for neg_word in NEG_WORDS:\n",
    "                if neg_word in tweet:\n",
    "                    cooccurence_count[neg_word][word]+=1"
   ]
  },
  {
   "cell_type": "code",
   "execution_count": 51,
   "metadata": {
    "collapsed": false
   },
   "outputs": [],
   "source": [
    "import math\n",
    "polarity = {}\n",
    "for word in word_counts:\n",
    "    if not (word in POS_WORDS or word in NEG_WORDS or word[0] in ['@','#']):\n",
    "        pmi_pos = 0   \n",
    "        for pos_word in POS_WORDS: \n",
    "            numerator = (1 + cooccurence_count[pos_word][word])*1.0/len(result)\n",
    "            denominator = ((1.0 + word_counts[word])/len(result))\\\n",
    "            *((1.0 + word_counts[pos_word])/len(result))\n",
    "            pmi_pos += math.log(numerator/denominator)\n",
    "        \n",
    "        pmi_neg = 0   \n",
    "        for neg_word in NEG_WORDS: \n",
    "            numerator = (1 + cooccurence_count[neg_word][word])*1.0/len(result)\n",
    "            denominator = ((1.0 + word_counts[word])/len(result))\\\n",
    "                        *((1.0 + word_counts[neg_word])/len(result))\n",
    "            pmi_neg += math.log(numerator/denominator)\n",
    "        \n",
    "        polarity[word] = pmi_pos - pmi_neg"
   ]
  },
  {
   "cell_type": "code",
   "execution_count": 52,
   "metadata": {
    "collapsed": false
   },
   "outputs": [
    {
     "name": "stdout",
     "output_type": "stream",
     "text": [
      "Most Positive Words\n",
      "[('evening', 11.789664188757353), ('craze', 9.791422183821002), ('birthday', 9.564074932347104), ('hello', 8.883621920361632), ('thanks', 8.40257891612887), ('thank', 8.37251924885138), ('usatour2017', 8.186481192137089), ('alwaysjadine', 8.179260944163602), ('lauren', 7.90014958018564), ('nnpanalomoto', 7.785963173112384), ('23', 7.752649368211432), ('wonderful', 7.386558241706539), ('lovely', 7.283258671868736), ('flowers', 7.27949342227018), ('goodbye', 7.184412837232103), ('tshirt', 7.149727279244213), ('addition', 7.137892821597214), ('thx', 7.054816179460729), ('doggo', 7.048094633700401), ('congratulations', 7.044055479537181), ('ol', 7.031944243587828), ('dropping', 7.026551578008309), ('movie', 7.0138831839882485), ('justin', 6.987791665574228), ('london', 6.907131039398111), ('congrats', 6.8948350296154235), ('march', 6.849506771643635), ('von', 6.8399542489782394), ('viola', 6.785016936505719), (\"they'd\", 6.755958210899239), ('nd', 6.751629920472981), ('xx', 6.7425800849530635), ('definitely', 6.728029038622475), ('brazil', 6.727312612822275), ('kindness', 6.685243402104709), ('davis', 6.68207382734343), ('mr', 6.64175472446063), ('cock', 6.541909389490913), ('ph', 6.532087651192413), ('rebuilding', 6.503100114319161), ('tak', 6.495585317816676), ('settle', 6.493697761640769), ('fresh', 6.462445218136665), ('dinner', 6.443500850481902), ('hood', 6.436777471388086), ('hoop', 6.424126353834527), ('babe', 6.422562631858346), ('morning', 6.353715424588261), ('fought', 6.329192260708151), ('advance', 6.308944099878204)]\n",
      "\n",
      "Most Negative Words [('crimes', -9.873680783980111), ('closure', -9.700936966439384), ('suggesting', -9.691887130919465), ('violence', -9.605329742224736), ('victims', -8.734555849175043), ('claims', -8.685700109085065), ('obamacare', -8.383330510003876), ('despicable', -8.26043237368072), ('moods', -8.197116936798746), ('families', -8.160717932434839), ('terrorist', -8.074481048836189), ('cigarettes', -7.851482941489948), ('sick', -7.830318130297904), ('pelosi', -7.811947557929498), ('violent', -7.804817481887086), ('disability', -7.788688099957203), ('vandalism', -7.755627237696313), ('saf', -7.663912028809847), ('blaming', -7.5508464667776165), ('presidency', -7.479395081452458), ('designed', -7.475960619003825), ('jccs', -7.417472914892117), ('explain', -7.367358293382232), ('botc', -7.301582027387772), ('poc', -7.1886313424632675), ('gurmehar', -7.139841178293835), ('raid', -7.1169894628047405), ('crime', -7.088743827866942), ('latino', -7.061278855790732), ('httpstcoelgddnernv', -7.001855435319937), ('devos', -6.9654877911490605), ('stomach', -6.9554374552955585), ('habit', -6.947469285646379), ('responsibility', -6.924996429794322), ('child', -6.891233941041879), ('leak', -6.875875632459373), ('generals', -6.847704755492676), ('disgusting', -6.847283791478882), ('justify', -6.829686249989999), ('vague', -6.820553766426723), ('commerce', -6.8113371113218015), ('centers', -6.8113371113218), ('decreased', -6.759068682776044), ('suggests', -6.688913696108916), ('blames', -6.677805718697279), ('3am', -6.606542698675788), ('antimuslim', -6.575771040009034), ('incidents', -6.552054513391716), ('threats', -6.516109495950967), ('blame', -6.4886842750631875)]\n"
     ]
    }
   ],
   "source": [
    "import operator\n",
    "most_positive = sorted(polarity.items(), key=operator.itemgetter(1), reverse=True)\n",
    "most_negative = sorted(polarity.items(), key=operator.itemgetter(1))\n",
    "print \"Most Positive Words\\n\",most_positive[0:50]\n",
    "print \"\\nMost Negative Words\", most_negative[0:50]\n"
   ]
  },
  {
   "cell_type": "markdown",
   "metadata": {
    "collapsed": true
   },
   "source": [
    "### Textual answer here.\n",
    "In positive words, I can see worderful, happy, thanks, goodbye, hello which make sense. Words like nd, tak don't make sense. It is happening mostly beacause the word splitting is bad.\n",
    "\n",
    "Same with the most negative words. Words like crimes, victims, violence, blam make sense. but word like 3am, botc does not signify anything."
   ]
  },
  {
   "cell_type": "markdown",
   "metadata": {},
   "source": [
    "## Question 3 (5 points)\n",
    "\n",
    "Now filter out all the words which have total count < 500, and then print top 50 polarity words and bottom 50 polarity words. \n",
    "\n",
    "Choose some of the words from both the sets of 50 words you got above which accoording to you make sense. Again please note, you will find many words which don't make sense. Do you think these results are better than the results you got in Question-1? Explain why."
   ]
  },
  {
   "cell_type": "code",
   "execution_count": 53,
   "metadata": {
    "collapsed": false
   },
   "outputs": [
    {
     "name": "stdout",
     "output_type": "stream",
     "text": [
      "\n",
      "******* Most Positive Words after filetering *******\n",
      "\n",
      "birthday 9.56407493235\n",
      "thanks 8.40257891613\n",
      "thank 8.37251924885\n",
      "ol 7.03194424359\n",
      "movie 7.01388318399\n",
      "march 6.84950677164\n",
      "von 6.83995424898\n",
      "hood 6.43677747139\n",
      "morning 6.35371542459\n",
      "taylor 6.15932857522\n",
      "happy 6.05803639649\n",
      "teyana 5.90769088849\n",
      "keef 5.74134196031\n",
      "herban 5.74019582838\n",
      "httpstcoi46mhn5tag 5.74019582838\n",
      "httpstcoinu4pqos7z 5.72633879372\n",
      "retweet 5.60319055551\n",
      "hi 5.59927060288\n",
      "president 5.57447036048\n",
      "proud 5.47796323596\n",
      "best 5.34794382999\n",
      "soon 5.31257978041\n",
      "amazing 5.22497444345\n",
      "follow 5.10180941661\n",
      "far 5.09222822984\n",
      "together 4.9637850793\n",
      "beautiful 4.91085014139\n",
      "miss 4.80793629346\n",
      "pregnancy 4.78420006629\n",
      "heard 4.77010476533\n",
      "today 4.74920352298\n",
      "win 4.69236519782\n",
      "music 4.68937714989\n",
      "learn 4.65786521726\n",
      "work 4.59435134828\n",
      "speech 4.52202976229\n",
      "luck 4.50491582933\n",
      "friends 4.45066305796\n",
      "fall 4.43245258261\n",
      "positive 4.35987967621\n",
      "giving 4.26242121119\n",
      "yes 4.23406384829\n",
      "sounds 4.22576351171\n",
      "d 4.22483352343\n",
      "last 4.22203779606\n",
      "night 4.17601266889\n",
      "god 4.11167303692\n",
      "game 3.95232416511\n",
      "decay 3.94958249108\n",
      "am 3.92812605493\n",
      "loved 3.83618038485\n",
      "\n",
      "******* Most Negative Words after filetering *******\n",
      "\n",
      "crimes -9.87368078398\n",
      "cigarettes -7.85148294149\n",
      "saf -7.66391202881\n",
      "explain -7.36735829338\n",
      "crime -7.08874382787\n",
      "child -6.89123394104\n",
      "used -6.3957685074\n",
      "ugly -6.17941761225\n",
      "gets -5.89588795855\n",
      "store -5.86735157961\n",
      "woman -5.79682223348\n",
      "stands -5.66029377926\n",
      "fuck -5.5085591149\n",
      "sad -5.50804937241\n",
      "condemning -5.41380999834\n",
      "oh -5.39688861812\n",
      "evil -5.36971955166\n",
      "its -5.22055222434\n",
      "something -5.19433000446\n",
      "marijuana -5.0980651395\n",
      "feel -5.08831050523\n",
      "ppl -5.01705409999\n",
      "democrats -4.98410266962\n",
      "hell -4.82960268963\n",
      "make -4.63396904043\n",
      "bc -4.50959931493\n",
      "yeah -4.38026594631\n",
      "want -4.36388353198\n",
      "nigga -4.34258700594\n",
      "shit -4.31657150638\n",
      "dems -4.26434067507\n",
      "won't -3.95345589154\n",
      "give -3.94841176718\n",
      "part -3.91376783106\n",
      "when -3.83107445472\n",
      "hurt -3.82663651367\n",
      "going -3.71424673508\n",
      "says -3.6824973483\n",
      "idea -3.66397598131\n",
      "remember -3.62095477855\n",
      "away -3.58868546604\n",
      "against -3.5421320685\n",
      "ok -3.51267542581\n",
      "worse -3.5099779834\n",
      "without -3.46114832593\n",
      "sorry -3.43622234445\n",
      "women -3.42150247451\n",
      "pretty -3.41664388021\n",
      "food -3.3969709236\n",
      "kids -3.38847202683\n",
      "mad -3.36556228488\n"
     ]
    }
   ],
   "source": [
    "# Write code to print words here\n",
    "count = 0\n",
    "print \"\\n******* Most Positive Words after filetering *******\\n\"\n",
    "for word,val in most_positive:\n",
    "    if word_counts[word] > 500:\n",
    "        print word, val\n",
    "        count+=1\n",
    "    if count > 50:\n",
    "        break\n",
    "\n",
    "count = 0\n",
    "print \"\\n******* Most Negative Words after filetering *******\\n\"\n",
    "for word,val in most_negative:\n",
    "    if word_counts[word] > 500:\n",
    "        print word, val\n",
    "        count+=1\n",
    "    if count > 50:\n",
    "        break\n",
    "\n",
    "\n",
    "        \n",
    "        "
   ]
  },
  {
   "cell_type": "markdown",
   "metadata": {},
   "source": [
    "### Textual answer here.\n",
    "\n",
    "After filtering based on the counts, results look better. But there are still words which do not make sense. This method works better because we eliminated the words which occur very few times. Words like \"ph\", \"mr\" disappered from the positive list since they occur very few times.\n",
    "\n",
    "Positive words with sense --> happy, thanks. We used these words mostly to express positive sentiments.\n",
    "\n",
    "Negative words with sense --> crimes, ugly. We used these words mostly to express negative sentiments.\n"
   ]
  },
  {
   "cell_type": "markdown",
   "metadata": {},
   "source": [
    "## Question 4 (5 points)\n",
    "\n",
    "Even after filtering out words with count < 500, many top-most and bottom-most polarity don't make sense. Identify what kind of words these are and what can be done to filter them out. You can read some tweets in the file to see what's happening. "
   ]
  },
  {
   "cell_type": "markdown",
   "metadata": {
    "collapsed": true
   },
   "source": [
    "### Textual answer here.\n",
    "In positive words, there are many re-tweets about \"That 's good ol Keef Von D , or Herban Decay\". Here the word ol comes algong with good many times and hence its polarity is very high.\n",
    "\n",
    "Same is applicable for word \"saf\" in most negative words. There are many re-tweets about \"CHILD : Why is it bad to have marijuana in every store ? ME : I’ll explain after I pick up cigarettes and beer at Saf…\" and hence saf gets high cooccurence probability with word bad.\n",
    "\n",
    "\n",
    "We need to filter out re-tweets and just keep the database about all the unique tweets."
   ]
  },
  {
   "cell_type": "markdown",
   "metadata": {},
   "source": [
    "# Part-2: Distributional Semantics"
   ]
  },
  {
   "cell_type": "markdown",
   "metadata": {},
   "source": [
    "## Cosine Similarity"
   ]
  },
  {
   "cell_type": "markdown",
   "metadata": {},
   "source": [
    "Recall that, where $i$ indexes over the context types, cosine similarity is defined as follows. $x$ and $y$ are both vectors of context counts (each for a different word), where $x_i$ is the count of context $i$.\n",
    "\n",
    "$$cossim(x,y) = \\frac{ \\sum_i x_i y_i }{ \\sqrt{\\sum_i x_i^2} \\sqrt{\\sum_i y_i^2} }$$\n",
    "\n",
    "The nice thing about cosine similarity is that it is normalized: no matter what the input vectors are, the output is between 0 and 1. One way to think of this is that cosine similarity is just, um, the cosine function, which has this property (for non-negative $x$ and $y$). Another way to think of it is, to work through the situations of maximum and minimum similarity between two context vectors, starting from the definition above.\n",
    "\n",
    "Note: a good way to understand the cosine similarity function is that the numerator cares about whether the $x$ and $y$ vectors are correlated. If $x$ and $y$ tend to have high values for the same contexts, the numerator tends to be big. The denominator can be thought of as a normalization factor: if all the values of $x$ are really large, for example, dividing by the square root of their sum-of-squares prevents the whole thing from getting arbitrarily large. In fact, dividing by both these things (aka their norms) means the whole thing can’t go higher than 1.\n",
    "\n",
    "In this problem we'll work with vectors of raw context counts.  (As you know, this is not necessarily the best representation.)"
   ]
  },
  {
   "cell_type": "markdown",
   "metadata": {},
   "source": [
    "## Question 5 (5 points)\n",
    "\n",
    "See the file `nytcounts.university_cat_dog`, which contains context count vectors for three words: “dog”, “cat”, and “university”. These are immediate left and right contexts from a New York Times corpus. You can open the file in a text editor since it’s quite small. \n",
    "\n",
    "Write a function which takes context count dictionaries of two words and calculates cosine similarity between these two words. The function should return a number beween 0 and 1.  Briefly comment on whether the relative simlarities make sense.\n",
    "\n"
   ]
  },
  {
   "cell_type": "code",
   "execution_count": 54,
   "metadata": {
    "collapsed": false
   },
   "outputs": [
    {
     "name": "stdout",
     "output_type": "stream",
     "text": [
      "file nytcounts.university_cat_dog has contexts for 3 words\n",
      "0.966891672715\n",
      "0.660442421144\n",
      "0.659230248969\n"
     ]
    }
   ],
   "source": [
    "import distsim; \n",
    "reload(distsim)\n",
    "\n",
    "word_to_ccdict = distsim.load_contexts(\"nytcounts.university_cat_dog\")\n",
    "\n",
    "# write code here to show output (i.e. cosine similarity between these words.)\n",
    "# We encourage you to write other functions in distsim.py itself. \n",
    "print distsim.cosine_similarity(word_to_ccdict['dog'],word_to_ccdict['cat'])\n",
    "print distsim.cosine_similarity(word_to_ccdict['cat'],word_to_ccdict['university'])\n",
    "print distsim.cosine_similarity(word_to_ccdict['dog'],word_to_ccdict['university'])"
   ]
  },
  {
   "cell_type": "markdown",
   "metadata": {},
   "source": [
    "**Write your response here:**\n",
    "These similarities make sense. In given three words, \"dog\" should be similar to \"cat\" than \"university\". There is a common property of \"pet animals\" that these two words share.\n",
    "\n"
   ]
  },
  {
   "cell_type": "markdown",
   "metadata": {},
   "source": [
    "\n",
    "## Question 6 (20 points)\n",
    "\n",
    "Explore similarities in `nytcounts.4k`, which contains context counts for about 4000 words in a sample of New York Times articles. The news data was lowercased and URLs were removed. The context counts are for the 2000 most common words in twitter, as well as the most common 2000 words in the New York Times. (But all context counts are from New York Times.) The context counts only contain contexts that appeared for more than one word.  The file has three tab-separate fields: the word, its count, and a JSON-encoded dictionary of its context counts.  You'll see it's just counts of the immediate left/right neighbors.\n",
    "\n",
    "Choose **six** words. For each, show the output of 20 nearest words (use cosine similarity as distance metric). Comment on whether the output makes sense. Comment on whether this approach to distributional similarity makes more or less sense for certain terms.\n",
    "Four of your words should be:\n",
    "\n",
    " * a name (for example: person, organization, or location)\n",
    " * a common noun\n",
    " * an adjective\n",
    " * a verb\n",
    "\n",
    "You may also want to try exploring further words that are returned from a most-similar list from one of these. You can think of this as traversing the similarity graph among words.\n",
    "\n",
    "*Implementation note:* \n",
    "On my laptop it takes several hundred MB of memory to load it into memory from the `load_contexts()` function. If you don’t have enough memory available, your computer will get very slow because the OS will start swapping. If you have to use a machine without that much memory available, you can instead implement in a streaming approach by using the `stream_contexts()` generator function to access the data; this lets you iterate through the data from disk, one vector at a time, without putting everything into memory. You can see its use in the loading function. (You could also alternatively use a key-value or other type of database, but that’s too much work for this assignment.)"
   ]
  },
  {
   "cell_type": "code",
   "execution_count": 56,
   "metadata": {
    "collapsed": false
   },
   "outputs": [
    {
     "name": "stdout",
     "output_type": "stream",
     "text": [
      "file nytcounts.4k has contexts for 3648 words\n"
     ]
    }
   ],
   "source": [
    "import distsim; reload(distsim)\n",
    "word_to_ccdict = distsim.load_contexts(\"nytcounts.4k\")\n",
    "###Provide your answer below; perhaps in another cell so you don't have to reload the data each time"
   ]
  },
  {
   "cell_type": "code",
   "execution_count": 57,
   "metadata": {
    "collapsed": false
   },
   "outputs": [],
   "source": [
    "test_words = ['bill','awake','established','christ','told','kentucky']\n",
    "result_dict = {}\n",
    "for word in test_words:\n",
    "    result_dict[word] = {}\n",
    "    for compare_word in word_to_ccdict.keys():\n",
    "        if compare_word != word:\n",
    "            result_dict[word][compare_word] = distsim.cosine_similarity(word_to_ccdict[word]\\\n",
    "                                            ,word_to_ccdict[compare_word])"
   ]
  },
  {
   "cell_type": "code",
   "execution_count": 58,
   "metadata": {
    "collapsed": false
   },
   "outputs": [
    {
     "name": "stdout",
     "output_type": "stream",
     "text": [
      "\n",
      "******** Most similar words for ESTABLISHED ********\n",
      "\n",
      "introduced 0.866978464017\n",
      "created 0.826531601085\n",
      "built 0.824161262039\n",
      "developed 0.819753428508\n",
      "played 0.805059352133\n",
      "raised 0.80203725391\n",
      "cited 0.800262031243\n",
      "filed 0.787898026519\n",
      "founded 0.785600043102\n",
      "completed 0.784712932447\n",
      "represented 0.772626786416\n",
      "performed 0.770721128552\n",
      "provided 0.764642928569\n",
      "published 0.764630929142\n",
      "approved 0.755176119183\n",
      "opened 0.753481348476\n",
      "brought 0.748781057709\n",
      "rejected 0.747913554615\n",
      "conducted 0.742548463328\n",
      "playing 0.737244996042\n",
      "\n",
      "******** Most similar words for CHRIST ********\n",
      "\n",
      "course 0.778852656907\n",
      "flowers 0.755570700199\n",
      "pennsylvania 0.755532934775\n",
      "mine 0.740786349894\n",
      "directors 0.739045888437\n",
      "massachusetts 0.725433110728\n",
      "parliament 0.720827327631\n",
      "california 0.719758096072\n",
      "art 0.71908435029\n",
      "education 0.718813872706\n",
      "medicine 0.718375772736\n",
      "color 0.711648443544\n",
      "virginia 0.703757104294\n",
      "technology 0.700545583676\n",
      "violence 0.697304765008\n",
      "wood 0.697304764974\n",
      "oz 0.696178786893\n",
      "texas 0.695126105149\n",
      "architecture 0.687910361434\n",
      "events 0.687559069914\n",
      "\n",
      "******** Most similar words for BILL ********\n",
      "\n",
      "movie 0.90310060845\n",
      "plane 0.889309605735\n",
      "newspaper 0.888583903732\n",
      "camera 0.885004132159\n",
      "project 0.884677255836\n",
      "word 0.884595280212\n",
      "team 0.883215968634\n",
      "film 0.882846318428\n",
      "bathroom 0.878165480069\n",
      "neighborhood 0.876272203769\n",
      "program 0.875945475797\n",
      "storm 0.875220979138\n",
      "blast 0.874240372138\n",
      "situation 0.873170906609\n",
      "gym 0.872445921685\n",
      "book 0.871231167479\n",
      "dollar 0.870182390904\n",
      "settlement 0.868588006593\n",
      "panel 0.868501353746\n",
      "ball 0.868463660248\n",
      "\n",
      "******** Most similar words for KENTUCKY ********\n",
      "\n",
      "french 0.646387845571\n",
      "u.s. 0.644041383134\n",
      "senate 0.641460742221\n",
      "sun 0.640594883644\n",
      "past 0.639171857284\n",
      "bronx 0.635159388261\n",
      "internet 0.633921914856\n",
      "late 0.633209561089\n",
      "ball 0.632609712016\n",
      "pentagon 0.631579586801\n",
      "worst 0.631361308098\n",
      "original 0.630843280357\n",
      "yankees 0.630009776394\n",
      "current 0.629334819978\n",
      "world 0.628336640577\n",
      "nets 0.627874110829\n",
      "final 0.627561471152\n",
      "mets 0.626297438378\n",
      "brain 0.625264282363\n",
      "state 0.62519708504\n",
      "\n",
      "******** Most similar words for AWAKE ********\n",
      "\n",
      "alive 0.764947250774\n",
      "classes 0.722114848935\n",
      "everywhere 0.691967523666\n",
      "programs 0.690774797293\n",
      "practices 0.687861324751\n",
      "shoes 0.685899922304\n",
      "again 0.684389317229\n",
      "shots 0.683568149954\n",
      "here 0.680277473551\n",
      "pm 0.679028828126\n",
      "surgery 0.678100217504\n",
      "anymore 0.677847534887\n",
      "boring 0.67689219311\n",
      "laughed 0.673945488956\n",
      "activities 0.670858710328\n",
      "crazy 0.669112232807\n",
      "politics 0.667075272616\n",
      "together 0.666956703447\n",
      "forever 0.665790235904\n",
      "cookies 0.66281873357\n",
      "\n",
      "******** Most similar words for TOLD ********\n",
      "\n",
      "tells 0.80465139195\n",
      "gave 0.780452740826\n",
      "telling 0.774517841851\n",
      "called 0.770013671888\n",
      "visited 0.756946258325\n",
      "joined 0.729498504102\n",
      "watched 0.713894346535\n",
      "ordered 0.692238500525\n",
      "bought 0.68702607019\n",
      "kept 0.686526450738\n",
      "won 0.685999433576\n",
      "sees 0.683997327766\n",
      "attended 0.681227035568\n",
      "entered 0.681146732246\n",
      "rejected 0.677440793803\n",
      "saw 0.675226380065\n",
      "near 0.67107398793\n",
      "given 0.662261811495\n",
      "keeps 0.658009546548\n",
      "liked 0.656438241977\n"
     ]
    }
   ],
   "source": [
    "for word in result_dict.keys():\n",
    "    print \"\\n******** Most similar words for \"+word.upper()+\" ********\\n\"\n",
    "    sorted_x = sorted(result_dict[word].items(), key=operator.itemgetter(1), reverse=True)[0:20]\n",
    "    for t in sorted_x:\n",
    "        print t[0],t[1]\n",
    "\n",
    "    "
   ]
  },
  {
   "cell_type": "markdown",
   "metadata": {},
   "source": [
    "## Question 7 (10 points)\n",
    "\n",
    "In the next several questions, you'll examine similarities in trained word embeddings, instead of raw context counts.\n",
    "\n",
    "See the file `nyt_word2vec.university_cat_dog`, which contains word embedding vectors pretrained by word2vec [1] for three words: “dog”, “cat”, and “university”, from the same corpus. You can open the file in a text editor since it’s quite small.\n",
    "\n",
    "Write a function which takes word embedding vectors of two words and calculates cossine similarity between these 2 words. The function should return a number beween -1 and 1. Briefly comment on whether the relative simlarities make sense. \n",
    "\n",
    "*Implementation note:*\n",
    "Notice that the inputs of this function are numpy arrays (v1 and v2). If you are not very familiar with the basic operation in numpy, you can find some examples in the basic operation section here:\n",
    "https://docs.scipy.org/doc/numpy-dev/user/quickstart.html\n",
    "\n",
    "If you know how to use Matlab but haven't tried numpy before, the following link should be helpful:\n",
    "https://docs.scipy.org/doc/numpy-dev/user/numpy-for-matlab-users.html\n",
    "\n",
    "[1] Mikolov, Tomas, et al. \"Distributed representations of words and phrases and their compositionality.\" NIPS 2013."
   ]
  },
  {
   "cell_type": "code",
   "execution_count": 9,
   "metadata": {
    "collapsed": false
   },
   "outputs": [
    {
     "name": "stdout",
     "output_type": "stream",
     "text": [
      "0.827517295965\n",
      "-0.205394745036\n",
      "-0.190753135501\n"
     ]
    }
   ],
   "source": [
    "import distsim; reload(distsim)\n",
    "\n",
    "word_to_vec_dict = distsim.load_word2vec(\"nyt_word2vec.4k\")\n",
    "\n",
    "print distsim.cosine_similarity_word2vec(word_to_vec_dict['dog'],word_to_vec_dict['cat'])\n",
    "print distsim.cosine_similarity_word2vec(word_to_vec_dict['cat'],word_to_vec_dict['university'])\n",
    "print distsim.cosine_similarity_word2vec(word_to_vec_dict['dog'],word_to_vec_dict['university'])\n",
    "\n",
    "# write code here to show output (i.e. cosine similarity between these words.)\n",
    "# We encourage you to write other functions in distsim.py itself. "
   ]
  },
  {
   "cell_type": "markdown",
   "metadata": {},
   "source": [
    "**Write your response here:**\n",
    "\n",
    "Similarity between \"dog\" and \"cat\" is very high as compared to similarity between \"dog\" and \"university\" or \"cat\" and \"university\". Similar words are getting positive score while dissimiilar words are getting negative scores.\n",
    "\n"
   ]
  },
  {
   "cell_type": "markdown",
   "metadata": {},
   "source": [
    "## Question 8 (20 points)\n",
    "\n",
    "Repeat the process you did in the question 6, but now use dense vector from word2vec. Comment on whether the outputs makes sense. Compare the outputs of using nearest words on word2vec and the outputs on sparse context vector (so we suggest you to use the same words in question 6). Which method works better on the query words you choose. Please brief explain why one method works better than other in each case.\n",
    "\n",
    "Not: we used the default parameters of word2vec in [gensim](https://radimrehurek.com/gensim/models/word2vec.html) to get word2vec word embeddings."
   ]
  },
  {
   "cell_type": "markdown",
   "metadata": {},
   "source": [
    "Current method which uses word2vec works much better than the sparse context method. word2vec word embeddings are trained using neural networks and they have learned better parameters which says which two words are more corelated."
   ]
  },
  {
   "cell_type": "code",
   "execution_count": 15,
   "metadata": {
    "collapsed": false
   },
   "outputs": [],
   "source": [
    "import distsim\n",
    "import operator\n",
    "word_to_vec_dict = distsim.load_word2vec(\"nyt_word2vec.4k\")\n",
    "\n",
    "###Provide your answer below\n",
    "test_words = ['bill','awake','established','christ','told','kentucky']\n",
    "result_dict = {}\n",
    "for word in test_words:\n",
    "    result_dict[word] = {}\n",
    "    for compare_word in word_to_vec_dict.keys():\n",
    "        if compare_word != word:\n",
    "            result_dict[word][compare_word] = distsim.cosine_similarity_word2vec(word_to_vec_dict[word]\\\n",
    "                                            ,word_to_vec_dict[compare_word])"
   ]
  },
  {
   "cell_type": "code",
   "execution_count": 16,
   "metadata": {
    "collapsed": false
   },
   "outputs": [
    {
     "name": "stdout",
     "output_type": "stream",
     "text": [
      "\n",
      "******** Most similar words for ESTABLISHED ********\n",
      "\n",
      "created 0.768407638864\n",
      "developed 0.741681884818\n",
      "founded 0.719516204749\n",
      "joined 0.670916418553\n",
      "represented 0.661429266785\n",
      "organized 0.649323577778\n",
      "built 0.61853399759\n",
      "introduced 0.614364798068\n",
      "hired 0.593882369557\n",
      "conducted 0.578460391706\n",
      "supported 0.575789765017\n",
      "designed 0.569701186273\n",
      "presented 0.567261554753\n",
      "chosen 0.557226914843\n",
      "worked 0.552443411205\n",
      "produced 0.552137832057\n",
      "performed 0.545909327103\n",
      "replaced 0.545069865237\n",
      "criticized 0.534712729592\n",
      "accepted 0.527069712429\n",
      "\n",
      "******** Most similar words for CHRIST ********\n",
      "\n",
      "jesus 0.724308667655\n",
      "church 0.607908689327\n",
      "christian 0.579388667164\n",
      "holy 0.575210234377\n",
      "mary 0.565814213229\n",
      "jewish 0.564763204248\n",
      "roman 0.548141728208\n",
      "queen 0.538960423705\n",
      "elizabeth 0.499477936788\n",
      "ceremony 0.485140946065\n",
      "catholic 0.481478696692\n",
      "god 0.479151790923\n",
      "lord 0.472479178139\n",
      "rev 0.465089432227\n",
      "lady 0.461842290819\n",
      "un 0.457497369631\n",
      "mt 0.443250262586\n",
      "soul 0.438405232957\n",
      "king 0.437203017882\n",
      "faith 0.437097999365\n",
      "\n",
      "******** Most similar words for BILL ********\n",
      "\n",
      "legislation 0.73212665186\n",
      "proposal 0.643506843395\n",
      "legislature 0.629928280797\n",
      "measure 0.573722676487\n",
      "budget 0.563764517608\n",
      "senate 0.553915381666\n",
      "senator 0.548707032874\n",
      "speaker 0.546796341427\n",
      "reform 0.538837639565\n",
      "campaign 0.53468019603\n",
      "bills 0.532847841941\n",
      "plan 0.52832245981\n",
      "tax 0.521190124667\n",
      "democrat 0.518645151201\n",
      "assembly 0.512022330555\n",
      "governor 0.511324807046\n",
      "congress 0.501080878243\n",
      "proposals 0.488069611097\n",
      "administration 0.481001718573\n",
      "obama 0.473544548843\n",
      "\n",
      "******** Most similar words for KENTUCKY ********\n",
      "\n",
      "derby 0.825869015896\n",
      "florida 0.646954421746\n",
      "winner 0.626239512995\n",
      "race 0.605929181839\n",
      "ninth 0.579324227776\n",
      "races 0.562488843969\n",
      "horse 0.562352524323\n",
      "sixth 0.551212588479\n",
      "racing 0.534258881296\n",
      "liverpool 0.51819593692\n",
      "seventh 0.515175466138\n",
      "eighth 0.511453227461\n",
      "seattle 0.509874024549\n",
      "atlanta 0.508039591557\n",
      "miami 0.505142693822\n",
      "winning 0.495957445773\n",
      "championship 0.490206222831\n",
      "texas 0.481110205216\n",
      "pennsylvania 0.480539461139\n",
      "victory 0.473028687921\n",
      "\n",
      "******** Most similar words for AWAKE ********\n",
      "\n",
      "laughing 0.627946222965\n",
      "asleep 0.613665599475\n",
      "drunk 0.591941086991\n",
      "sleep 0.582121915708\n",
      "alive 0.578208976667\n",
      "crying 0.57549494416\n",
      "screaming 0.557234061091\n",
      "smiling 0.540920424331\n",
      "sleeping 0.538171633448\n",
      "praying 0.534826223427\n",
      "bored 0.53103997224\n",
      "prom 0.530857588371\n",
      "hungry 0.52511547827\n",
      "till 0.518414820022\n",
      "sick 0.517891655295\n",
      "happy 0.501396617231\n",
      "tears 0.501352327193\n",
      "tired 0.501344932424\n",
      "dead 0.491828527444\n",
      "bed 0.491069130628\n",
      "\n",
      "******** Most similar words for TOLD ********\n",
      "\n",
      "telling 0.728456471011\n",
      "warned 0.700327593842\n",
      "explained 0.697139453881\n",
      "said 0.647757092779\n",
      "asked 0.643370481049\n",
      "tells 0.636127424635\n",
      "recalled 0.612441613639\n",
      "noted 0.603245385636\n",
      "acknowledged 0.601936572263\n",
      "declared 0.598422624007\n",
      "suggested 0.590488634342\n",
      "noticed 0.577067037868\n",
      "tell 0.563106266996\n",
      "added 0.5630459073\n",
      "confirmed 0.550595613251\n",
      "hired 0.543345747277\n",
      "knew 0.537000193493\n",
      "talked 0.536758892353\n",
      "discovered 0.531754917396\n",
      "says 0.524467242748\n"
     ]
    }
   ],
   "source": [
    "for word in result_dict.keys():\n",
    "    print \"\\n******** Most similar words for \"+word.upper()+\" ********\\n\"\n",
    "    sorted_x = sorted(result_dict[word].items(), key=operator.itemgetter(1), reverse=True)[0:20]\n",
    "    for t in sorted_x:\n",
    "        print t[0],t[1]"
   ]
  },
  {
   "cell_type": "markdown",
   "metadata": {},
   "source": [
    "## Question 9 (15 points)\n",
    "An interesting thing to try with word embeddings is analogical reasoning tasks. In the following example, it's intended to solve the analogy question \"king is to man as what is to woman?\", or in SAT-style notation,\n",
    "\n",
    "king : man :: ____ : woman\n",
    "\n",
    "Some research has proposed to use additive operations on word embeddings to solve the analogy: take the vector $(v_{king}-v_{man}+v_{woman})$ and find the most-similar word to it.  One way to explain this idea: if you take \"king\", get rid of its attributes/contexts it shares with \"man\", and add in the attributes/contexts of \"woman\", hopefully you'll get to a point in the space that has king-like attributes but the \"man\" ones replaced with \"woman\" ones.\n",
    "\n",
    "Show the output for 20 closest words you get by trying to solve that analogy with this method.  Did it work?\n",
    "\n",
    "Please come up with another analogical reasoning task (another triple of words), and output the answer using the same method. Comment on whether the output makes sense. If the output makes sense, explain why we can capture such relation between words using an unsupervised algorithm. Where does the information come from? On the other hand, if the output does not make sense, propose an explanation why the algorithm fails on this case.\n",
    "\n",
    "\n",
    "Note that the word2vec is trained in an unsupervised manner just with distributional statistics; it is interesting that it can apparently do any reasoning at all.  For a critical view, see [Linzen 2016](http://www.aclweb.org/anthology/W/W16/W16-2503.pdf).\n",
    "\n"
   ]
  },
  {
   "cell_type": "code",
   "execution_count": 70,
   "metadata": {
    "collapsed": false
   },
   "outputs": [
    {
     "name": "stdout",
     "output_type": "stream",
     "text": [
      "[('queen', 0.72502863198579426), ('princess', 0.57790010340102305), ('prince', 0.56696239241698609), ('lord', 0.53091939111112829), ('royal', 0.52020329686379774), ('mary', 0.49769814628352971), ('mama', 0.49546963683192269), ('daughter', 0.49375794656560146), ('singer', 0.4898380820139282), ('kim', 0.48835469524343844), ('elizabeth', 0.48248484340535647), ('girl', 0.47733829480775558), ('grandma', 0.47699072668127218), ('sister', 0.47030437182473772), ('mother', 0.46942202883251727), ('clark', 0.46824004740972947), ('wedding', 0.46233629356038575), ('husband', 0.45685118817885462), ('boyfriend', 0.44755057450353952), ('jesus', 0.43857211580612976)]\n"
     ]
    }
   ],
   "source": [
    "# Write code to show output here.\n",
    "from operator import add\n",
    "from operator import sub\n",
    "\n",
    "target = [word_to_vec_dict['king'][i] - word_to_vec_dict['man'][i]\\\n",
    "         + word_to_vec_dict['woman'][i] for i in xrange(len(word_to_vec_dict['king']))]\n",
    "\n",
    "\n",
    "shortest = -10000.0\n",
    "word_similarities = []\n",
    "for word in word_to_vec_dict.keys():\n",
    "    if word not in ['king', 'man', 'woman']: \n",
    "        word_similarities.append((word,distsim.cosine_similarity_word2vec(word_to_vec_dict[word], target)))\n",
    "\n",
    "\n",
    "word_similarities.sort(key = operator.itemgetter(1), reverse=True)\n",
    "print word_similarities[:20]"
   ]
  },
  {
   "cell_type": "code",
   "execution_count": 72,
   "metadata": {
    "collapsed": false
   },
   "outputs": [
    {
     "name": "stdout",
     "output_type": "stream",
     "text": [
      "[('woman', 0.95159272023891461), ('girl', 0.86142717340004915), ('boy', 0.78455786962501928), ('person', 0.63950002634539405), ('child', 0.63444196011924137), ('cat', 0.62979291911776136), ('blonde', 0.62904049327251188), ('herself', 0.61632166143633804), ('dog', 0.60772335866771665), ('doctor', 0.59756251604103472), ('kid', 0.5957651272050305), ('baby', 0.5858317651053242), ('guy', 0.58230808449748228), ('princess', 0.57739780036154376), ('soldier', 0.56738821832063935), ('mother', 0.56554117134364856), ('boyfriend', 0.56181585814578583), ('girlfriend', 0.55135474290764119), ('daughter', 0.54686914059931679), ('smile', 0.53771458878419365)]\n"
     ]
    }
   ],
   "source": [
    "# Write code to show output here.\n",
    "from operator import add\n",
    "from operator import sub\n",
    "\n",
    "target = [word_to_vec_dict['man'][i] - word_to_vec_dict['he'][i]\\\n",
    "         + word_to_vec_dict['she'][i] for i in xrange(len(word_to_vec_dict['king']))]\n",
    "\n",
    "\n",
    "shortest = -10000.0\n",
    "word_similarities = []\n",
    "for word in word_to_vec_dict.keys():\n",
    "    if word not in ['he', 'she', 'man']: \n",
    "        word_similarities.append((word,distsim.cosine_similarity_word2vec(word_to_vec_dict[word], target)))\n",
    "\n",
    "\n",
    "word_similarities.sort(key = operator.itemgetter(1), reverse=True)\n",
    "print word_similarities[:20]"
   ]
  },
  {
   "cell_type": "markdown",
   "metadata": {},
   "source": [
    "### Textual answer here.\n",
    "\n",
    "This makes sense. Co-occurence of 'man' with 'he' should be closer to the co-occurence of 'she' and 'woman'. Their vectors lie very close to each other and it's very easy to substitute one word by another which cooocur very frequently."
   ]
  },
  {
   "cell_type": "code",
   "execution_count": null,
   "metadata": {
    "collapsed": true
   },
   "outputs": [],
   "source": []
  }
 ],
 "metadata": {
  "anaconda-cloud": {},
  "kernelspec": {
   "display_name": "Python 2",
   "language": "python",
   "name": "python2"
  },
  "language_info": {
   "codemirror_mode": {
    "name": "ipython",
    "version": 2
   },
   "file_extension": ".py",
   "mimetype": "text/x-python",
   "name": "python",
   "nbconvert_exporter": "python",
   "pygments_lexer": "ipython2",
   "version": "2.7.10"
  }
 },
 "nbformat": 4,
 "nbformat_minor": 0
}
